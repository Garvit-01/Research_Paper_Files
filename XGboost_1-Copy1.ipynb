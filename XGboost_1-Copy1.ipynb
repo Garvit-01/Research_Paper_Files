{
 "cells": [
  {
   "cell_type": "code",
   "execution_count": 14,
   "id": "04025d99",
   "metadata": {},
   "outputs": [],
   "source": [
    "import pandas as pd\n",
    "import numpy as np\n",
    "\n",
    "from matplotlib import pyplot as plt\n",
    "from sklearn import metrics\n",
    "\n",
    "from pmdarima.model_selection import train_test_split as time_train_test_split\n",
    "import xgboost\n",
    "\n",
    "from xgboost import XGBRegressor\n",
    "from xgboost import plot_importance\n",
    "\n",
    "import warnings\n",
    "warnings.filterwarnings(\"ignore\")"
   ]
  },
  {
   "cell_type": "code",
   "execution_count": 15,
   "id": "3dcd6f50",
   "metadata": {},
   "outputs": [
    {
     "data": {
      "text/html": [
       "<div>\n",
       "<style scoped>\n",
       "    .dataframe tbody tr th:only-of-type {\n",
       "        vertical-align: middle;\n",
       "    }\n",
       "\n",
       "    .dataframe tbody tr th {\n",
       "        vertical-align: top;\n",
       "    }\n",
       "\n",
       "    .dataframe thead th {\n",
       "        text-align: right;\n",
       "    }\n",
       "</style>\n",
       "<table border=\"1\" class=\"dataframe\">\n",
       "  <thead>\n",
       "    <tr style=\"text-align: right;\">\n",
       "      <th></th>\n",
       "      <th>Date</th>\n",
       "      <th>Date.1</th>\n",
       "      <th>Irr</th>\n",
       "    </tr>\n",
       "  </thead>\n",
       "  <tbody>\n",
       "    <tr>\n",
       "      <th>0</th>\n",
       "      <td>2014-01-01 00:30:00</td>\n",
       "      <td>2014-01-01 00:30:00</td>\n",
       "      <td>0.00</td>\n",
       "    </tr>\n",
       "    <tr>\n",
       "      <th>1</th>\n",
       "      <td>2014-01-01 01:30:00</td>\n",
       "      <td>2014-01-01 01:30:00</td>\n",
       "      <td>0.00</td>\n",
       "    </tr>\n",
       "    <tr>\n",
       "      <th>2</th>\n",
       "      <td>2014-01-01 02:30:00</td>\n",
       "      <td>2014-01-01 02:30:00</td>\n",
       "      <td>1.45</td>\n",
       "    </tr>\n",
       "    <tr>\n",
       "      <th>3</th>\n",
       "      <td>2014-01-01 03:30:00</td>\n",
       "      <td>2014-01-01 03:30:00</td>\n",
       "      <td>150.72</td>\n",
       "    </tr>\n",
       "    <tr>\n",
       "      <th>4</th>\n",
       "      <td>2014-01-01 04:30:00</td>\n",
       "      <td>2014-01-01 04:30:00</td>\n",
       "      <td>373.87</td>\n",
       "    </tr>\n",
       "    <tr>\n",
       "      <th>...</th>\n",
       "      <td>...</td>\n",
       "      <td>...</td>\n",
       "      <td>...</td>\n",
       "    </tr>\n",
       "    <tr>\n",
       "      <th>61363</th>\n",
       "      <td>2020-12-31 19:30:00</td>\n",
       "      <td>2020-12-31 19:30:00</td>\n",
       "      <td>0.00</td>\n",
       "    </tr>\n",
       "    <tr>\n",
       "      <th>61364</th>\n",
       "      <td>2020-12-31 20:30:00</td>\n",
       "      <td>2020-12-31 20:30:00</td>\n",
       "      <td>0.00</td>\n",
       "    </tr>\n",
       "    <tr>\n",
       "      <th>61365</th>\n",
       "      <td>2020-12-31 21:30:00</td>\n",
       "      <td>2020-12-31 21:30:00</td>\n",
       "      <td>0.00</td>\n",
       "    </tr>\n",
       "    <tr>\n",
       "      <th>61366</th>\n",
       "      <td>2020-12-31 22:30:00</td>\n",
       "      <td>2020-12-31 22:30:00</td>\n",
       "      <td>0.00</td>\n",
       "    </tr>\n",
       "    <tr>\n",
       "      <th>61367</th>\n",
       "      <td>2020-12-31 23:30:00</td>\n",
       "      <td>2020-12-31 23:30:00</td>\n",
       "      <td>0.00</td>\n",
       "    </tr>\n",
       "  </tbody>\n",
       "</table>\n",
       "<p>61368 rows × 3 columns</p>\n",
       "</div>"
      ],
      "text/plain": [
       "                      Date               Date.1     Irr\n",
       "0      2014-01-01 00:30:00  2014-01-01 00:30:00    0.00\n",
       "1      2014-01-01 01:30:00  2014-01-01 01:30:00    0.00\n",
       "2      2014-01-01 02:30:00  2014-01-01 02:30:00    1.45\n",
       "3      2014-01-01 03:30:00  2014-01-01 03:30:00  150.72\n",
       "4      2014-01-01 04:30:00  2014-01-01 04:30:00  373.87\n",
       "...                    ...                  ...     ...\n",
       "61363  2020-12-31 19:30:00  2020-12-31 19:30:00    0.00\n",
       "61364  2020-12-31 20:30:00  2020-12-31 20:30:00    0.00\n",
       "61365  2020-12-31 21:30:00  2020-12-31 21:30:00    0.00\n",
       "61366  2020-12-31 22:30:00  2020-12-31 22:30:00    0.00\n",
       "61367  2020-12-31 23:30:00  2020-12-31 23:30:00    0.00\n",
       "\n",
       "[61368 rows x 3 columns]"
      ]
     },
     "execution_count": 15,
     "metadata": {},
     "output_type": "execute_result"
    }
   ],
   "source": [
    "df=pd.read_csv('Readings_last_7yr.csv')\n",
    "df"
   ]
  },
  {
   "cell_type": "code",
   "execution_count": 16,
   "id": "3abda9c8",
   "metadata": {},
   "outputs": [],
   "source": [
    "del df['Date.1']"
   ]
  },
  {
   "cell_type": "code",
   "execution_count": 17,
   "id": "ef7b39d3",
   "metadata": {},
   "outputs": [
    {
     "data": {
      "text/html": [
       "<div>\n",
       "<style scoped>\n",
       "    .dataframe tbody tr th:only-of-type {\n",
       "        vertical-align: middle;\n",
       "    }\n",
       "\n",
       "    .dataframe tbody tr th {\n",
       "        vertical-align: top;\n",
       "    }\n",
       "\n",
       "    .dataframe thead th {\n",
       "        text-align: right;\n",
       "    }\n",
       "</style>\n",
       "<table border=\"1\" class=\"dataframe\">\n",
       "  <thead>\n",
       "    <tr style=\"text-align: right;\">\n",
       "      <th></th>\n",
       "      <th>Date</th>\n",
       "      <th>Irr</th>\n",
       "    </tr>\n",
       "    <tr>\n",
       "      <th>Date</th>\n",
       "      <th></th>\n",
       "      <th></th>\n",
       "    </tr>\n",
       "  </thead>\n",
       "  <tbody>\n",
       "    <tr>\n",
       "      <th>2014-01-01 00:30:00</th>\n",
       "      <td>2014-01-01 00:30:00</td>\n",
       "      <td>0.00</td>\n",
       "    </tr>\n",
       "    <tr>\n",
       "      <th>2014-01-01 01:30:00</th>\n",
       "      <td>2014-01-01 01:30:00</td>\n",
       "      <td>0.00</td>\n",
       "    </tr>\n",
       "    <tr>\n",
       "      <th>2014-01-01 02:30:00</th>\n",
       "      <td>2014-01-01 02:30:00</td>\n",
       "      <td>1.45</td>\n",
       "    </tr>\n",
       "    <tr>\n",
       "      <th>2014-01-01 03:30:00</th>\n",
       "      <td>2014-01-01 03:30:00</td>\n",
       "      <td>150.72</td>\n",
       "    </tr>\n",
       "    <tr>\n",
       "      <th>2014-01-01 04:30:00</th>\n",
       "      <td>2014-01-01 04:30:00</td>\n",
       "      <td>373.87</td>\n",
       "    </tr>\n",
       "  </tbody>\n",
       "</table>\n",
       "</div>"
      ],
      "text/plain": [
       "                                    Date     Irr\n",
       "Date                                            \n",
       "2014-01-01 00:30:00  2014-01-01 00:30:00    0.00\n",
       "2014-01-01 01:30:00  2014-01-01 01:30:00    0.00\n",
       "2014-01-01 02:30:00  2014-01-01 02:30:00    1.45\n",
       "2014-01-01 03:30:00  2014-01-01 03:30:00  150.72\n",
       "2014-01-01 04:30:00  2014-01-01 04:30:00  373.87"
      ]
     },
     "execution_count": 17,
     "metadata": {},
     "output_type": "execute_result"
    }
   ],
   "source": [
    "df.index = pd.to_datetime(df['Date'], format='%Y-%m-%d %H:%M:%S')\n",
    "df.head()"
   ]
  },
  {
   "cell_type": "code",
   "execution_count": 18,
   "id": "eff8cc99",
   "metadata": {},
   "outputs": [],
   "source": [
    "df2 = df.copy()\n",
    "del df2['Date']"
   ]
  },
  {
   "cell_type": "code",
   "execution_count": 19,
   "id": "28251dcb",
   "metadata": {},
   "outputs": [],
   "source": [
    "df2.columns = ['Irradiance']"
   ]
  },
  {
   "cell_type": "code",
   "execution_count": 20,
   "id": "76640af0",
   "metadata": {},
   "outputs": [
    {
     "data": {
      "text/html": [
       "<div>\n",
       "<style scoped>\n",
       "    .dataframe tbody tr th:only-of-type {\n",
       "        vertical-align: middle;\n",
       "    }\n",
       "\n",
       "    .dataframe tbody tr th {\n",
       "        vertical-align: top;\n",
       "    }\n",
       "\n",
       "    .dataframe thead th {\n",
       "        text-align: right;\n",
       "    }\n",
       "</style>\n",
       "<table border=\"1\" class=\"dataframe\">\n",
       "  <thead>\n",
       "    <tr style=\"text-align: right;\">\n",
       "      <th></th>\n",
       "      <th>Irradiance</th>\n",
       "    </tr>\n",
       "    <tr>\n",
       "      <th>Date</th>\n",
       "      <th></th>\n",
       "    </tr>\n",
       "  </thead>\n",
       "  <tbody>\n",
       "    <tr>\n",
       "      <th>2014-01-01 00:30:00</th>\n",
       "      <td>0.00</td>\n",
       "    </tr>\n",
       "    <tr>\n",
       "      <th>2014-01-01 01:30:00</th>\n",
       "      <td>0.00</td>\n",
       "    </tr>\n",
       "    <tr>\n",
       "      <th>2014-01-01 02:30:00</th>\n",
       "      <td>1.45</td>\n",
       "    </tr>\n",
       "    <tr>\n",
       "      <th>2014-01-01 03:30:00</th>\n",
       "      <td>150.72</td>\n",
       "    </tr>\n",
       "    <tr>\n",
       "      <th>2014-01-01 04:30:00</th>\n",
       "      <td>373.87</td>\n",
       "    </tr>\n",
       "    <tr>\n",
       "      <th>...</th>\n",
       "      <td>...</td>\n",
       "    </tr>\n",
       "    <tr>\n",
       "      <th>2020-12-31 19:30:00</th>\n",
       "      <td>0.00</td>\n",
       "    </tr>\n",
       "    <tr>\n",
       "      <th>2020-12-31 20:30:00</th>\n",
       "      <td>0.00</td>\n",
       "    </tr>\n",
       "    <tr>\n",
       "      <th>2020-12-31 21:30:00</th>\n",
       "      <td>0.00</td>\n",
       "    </tr>\n",
       "    <tr>\n",
       "      <th>2020-12-31 22:30:00</th>\n",
       "      <td>0.00</td>\n",
       "    </tr>\n",
       "    <tr>\n",
       "      <th>2020-12-31 23:30:00</th>\n",
       "      <td>0.00</td>\n",
       "    </tr>\n",
       "  </tbody>\n",
       "</table>\n",
       "<p>61368 rows × 1 columns</p>\n",
       "</div>"
      ],
      "text/plain": [
       "                     Irradiance\n",
       "Date                           \n",
       "2014-01-01 00:30:00        0.00\n",
       "2014-01-01 01:30:00        0.00\n",
       "2014-01-01 02:30:00        1.45\n",
       "2014-01-01 03:30:00      150.72\n",
       "2014-01-01 04:30:00      373.87\n",
       "...                         ...\n",
       "2020-12-31 19:30:00        0.00\n",
       "2020-12-31 20:30:00        0.00\n",
       "2020-12-31 21:30:00        0.00\n",
       "2020-12-31 22:30:00        0.00\n",
       "2020-12-31 23:30:00        0.00\n",
       "\n",
       "[61368 rows x 1 columns]"
      ]
     },
     "execution_count": 20,
     "metadata": {},
     "output_type": "execute_result"
    }
   ],
   "source": [
    "df2"
   ]
  },
  {
   "cell_type": "code",
   "execution_count": 21,
   "id": "c46a21c1",
   "metadata": {},
   "outputs": [
    {
     "data": {
      "text/plain": [
       "Date     object\n",
       "Irr     float64\n",
       "dtype: object"
      ]
     },
     "execution_count": 21,
     "metadata": {},
     "output_type": "execute_result"
    }
   ],
   "source": [
    "df.dtypes"
   ]
  },
  {
   "cell_type": "code",
   "execution_count": 22,
   "id": "4f69750c",
   "metadata": {},
   "outputs": [
    {
     "data": {
      "text/plain": [
       "[<matplotlib.lines.Line2D at 0x1ab20f62310>]"
      ]
     },
     "execution_count": 22,
     "metadata": {},
     "output_type": "execute_result"
    },
    {
     "data": {
      "image/png": "[encoded data removed]",
      "text/plain": [
       "<Figure size 864x360 with 1 Axes>"
      ]
     },
     "metadata": {
      "needs_background": "light"
     },
     "output_type": "display_data"
    }
   ],
   "source": [
    "\n",
    "Irr = df2['Irradiance']\n",
    "plt.figure(figsize=(12,5))\n",
    "plt.ylabel(\"Irradiance\", fontsize = 12)\n",
    "plt.xlabel(\"Date\", fontsize = 12)\n",
    "plt.rc('xtick', labelsize=10) \n",
    "plt.rc('ytick', labelsize=12) \n",
    "# plt.legend(('TestY (Actual)','Predicted'))\n",
    "\n",
    "plt.plot(Irr)\n"
   ]
  },
  {
   "cell_type": "code",
   "execution_count": 23,
   "id": "c550ce16",
   "metadata": {},
   "outputs": [
    {
     "data": {
      "text/plain": [
       "Irradiance    float64\n",
       "dtype: object"
      ]
     },
     "execution_count": 23,
     "metadata": {},
     "output_type": "execute_result"
    }
   ],
   "source": [
    "df2.dtypes"
   ]
  },
  {
   "cell_type": "code",
   "execution_count": 24,
   "id": "c2d58f81",
   "metadata": {},
   "outputs": [
    {
     "name": "stdout",
     "output_type": "stream",
     "text": [
      "Observations: 61368\n",
      "Training Observations: 46026\n",
      "Testing Observations: 15342\n"
     ]
    },
    {
     "data": {
      "image/png": "[encoded data removed]",
      "text/plain": [
       "<Figure size 864x360 with 1 Axes>"
      ]
     },
     "metadata": {
      "needs_background": "light"
     },
     "output_type": "display_data"
    }
   ],
   "source": [
    "from pandas import read_csv\n",
    "from matplotlib import pyplot\n",
    "# series = read_csv('sunspots.csv', header=0, index_col=0)\n",
    "X = df2\n",
    "train_size = int(len(X) * 0.75)\n",
    "train, test = X[0:train_size], X[train_size:len(X)]\n",
    "print('Observations: %d' % (len(X)))\n",
    "print('Training Observations: %d' % (len(train)))\n",
    "print('Testing Observations: %d' % (len(test)))\n",
    "plt.figure(figsize=(12,5))\n",
    "\n",
    "pyplot.plot(train)\n",
    "pyplot.plot(test)\n",
    "# plt.figure(figsize=(13,8))\n",
    "plt.title(\"Train-Test Split\")\n",
    "\n",
    "plt.ylabel(\"Irradiance\")\n",
    "plt.xlabel(\"Date\")\n",
    "plt.legend(('Train','Test'))\n",
    "\n",
    "# plt.figure(figsize=(13,8))\n",
    "pyplot.show()\n",
    "# pyplot.xlabel\n"
   ]
  },
  {
   "cell_type": "code",
   "execution_count": null,
   "id": "6eabe428",
   "metadata": {},
   "outputs": [],
   "source": []
  },
  {
   "cell_type": "code",
   "execution_count": null,
   "id": "f712cbd3",
   "metadata": {},
   "outputs": [],
   "source": []
  },
  {
   "cell_type": "code",
   "execution_count": null,
   "id": "2ff6bfd6",
   "metadata": {},
   "outputs": [],
   "source": []
  },
  {
   "cell_type": "code",
   "execution_count": null,
   "id": "25f4f1fc",
   "metadata": {},
   "outputs": [],
   "source": []
  },
  {
   "cell_type": "code",
   "execution_count": null,
   "id": "d544aae2",
   "metadata": {},
   "outputs": [],
   "source": []
  },
  {
   "cell_type": "code",
   "execution_count": 25,
   "id": "db840768",
   "metadata": {},
   "outputs": [],
   "source": [
    "def create_features(df, target_variable):\n",
    "    \"\"\"\n",
    "    Creates time series features from datetime index\n",
    "    \n",
    "    Args:\n",
    "        df (float64): Values to be added to the model incl. corresponding datetime\n",
    "                      , numpy array of floats\n",
    "        target_variable (string): Name of the target variable within df   \n",
    "    \n",
    "    Returns:\n",
    "        X (int): Extracted values from datetime index, dataframe\n",
    "        y (int): Values of target variable, numpy array of integers\n",
    "    \"\"\"\n",
    "    df['date'] = df.index\n",
    "    df['hour'] = df['date'].dt.hour\n",
    "    df['dayofweek'] = df['date'].dt.dayofweek\n",
    "    df['quarter'] = df['date'].dt.quarter\n",
    "    df['month'] = df['date'].dt.month\n",
    "    df['year'] = df['date'].dt.year\n",
    "    df['dayofyear'] = df['date'].dt.dayofyear\n",
    "    df['dayofmonth'] = df['date'].dt.day\n",
    "    df['weekofyear'] = df['date'].dt.weekofyear\n",
    "    \n",
    "    X = df[['hour','dayofweek','quarter','month','year',\n",
    "           'dayofyear','dayofmonth','weekofyear']]\n",
    "    if target_variable:\n",
    "        y = df[target_variable]\n",
    "        return X, y\n",
    "    return X"
   ]
  },
  {
   "cell_type": "code",
   "execution_count": 26,
   "id": "0ee30667",
   "metadata": {},
   "outputs": [],
   "source": [
    "def mean_absolute_percentage_error(y_true, y_pred):\n",
    "    '''\n",
    "    Calculate the mean absolute percentage error as a metric for evaluation\n",
    "    \n",
    "    Args:\n",
    "        y_true (float64): Y values for the dependent variable (test part), numpy array of floats \n",
    "        y_pred (float64): Predicted values for the dependen variable (test parrt), numpy array of floats\n",
    "    \n",
    "    Returns:\n",
    "        Mean absolute percentage error \n",
    "    '''    \n",
    "    y_true, y_pred = np.array(y_true), np.array(y_pred)\n",
    "    return np.mean(np.abs((y_true - y_pred) / y_true)) * 100"
   ]
  },
  {
   "cell_type": "code",
   "execution_count": 27,
   "id": "4587bebd",
   "metadata": {},
   "outputs": [],
   "source": [
    "def timeseries_evaluation_metrics_func(y_true, y_pred):\n",
    "    '''\n",
    "    Calculate the following evaluation metrics:\n",
    "        - MSE\n",
    "        - MAE\n",
    "        - RMSE\n",
    "        - MAPE\n",
    "        - R²\n",
    "    \n",
    "    Args:\n",
    "        y_true (float64): Y values for the dependent variable (test part), numpy array of floats \n",
    "        y_pred (float64): Predicted values for the dependen variable (test parrt), numpy array of floats\n",
    "    \n",
    "    Returns:\n",
    "        MSE, MAE, RMSE, MAPE and R² \n",
    "    '''    \n",
    "    #print('Evaluation metric results: ')\n",
    "    print(f'MSE is : {metrics.mean_squared_error(y_true, y_pred)}')\n",
    "    print(f'MAE is : {metrics.mean_absolute_error(y_true, y_pred)}')\n",
    "    print(f'RMSE is : {np.sqrt(metrics.mean_squared_error(y_true, y_pred))}')\n",
    "#     print(f'MAPE is : {mean_absolute_percentage_error(y_true, y_pred)}')\n",
    "#     print(f'R2 is : {metrics.r2_score(y_true, y_pred)}',end='\\n\\n')"
   ]
  },
  {
   "cell_type": "code",
   "execution_count": 28,
   "id": "8366619f",
   "metadata": {},
   "outputs": [],
   "source": [
    "train_copy = train.copy()\n",
    "test_copy = test.copy()\n",
    "\n",
    "trainX, trainY = create_features(train_copy, target_variable='Irradiance')\n",
    "testX, testY = create_features(test_copy, target_variable='Irradiance')"
   ]
  },
  {
   "cell_type": "code",
   "execution_count": 29,
   "id": "4544719e",
   "metadata": {},
   "outputs": [
    {
     "data": {
      "text/html": [
       "<div>\n",
       "<style scoped>\n",
       "    .dataframe tbody tr th:only-of-type {\n",
       "        vertical-align: middle;\n",
       "    }\n",
       "\n",
       "    .dataframe tbody tr th {\n",
       "        vertical-align: top;\n",
       "    }\n",
       "\n",
       "    .dataframe thead th {\n",
       "        text-align: right;\n",
       "    }\n",
       "</style>\n",
       "<table border=\"1\" class=\"dataframe\">\n",
       "  <thead>\n",
       "    <tr style=\"text-align: right;\">\n",
       "      <th></th>\n",
       "      <th>hour</th>\n",
       "      <th>dayofweek</th>\n",
       "      <th>quarter</th>\n",
       "      <th>month</th>\n",
       "      <th>year</th>\n",
       "      <th>dayofyear</th>\n",
       "      <th>dayofmonth</th>\n",
       "      <th>weekofyear</th>\n",
       "    </tr>\n",
       "    <tr>\n",
       "      <th>Date</th>\n",
       "      <th></th>\n",
       "      <th></th>\n",
       "      <th></th>\n",
       "      <th></th>\n",
       "      <th></th>\n",
       "      <th></th>\n",
       "      <th></th>\n",
       "      <th></th>\n",
       "    </tr>\n",
       "  </thead>\n",
       "  <tbody>\n",
       "    <tr>\n",
       "      <th>2014-01-01 00:30:00</th>\n",
       "      <td>0</td>\n",
       "      <td>2</td>\n",
       "      <td>1</td>\n",
       "      <td>1</td>\n",
       "      <td>2014</td>\n",
       "      <td>1</td>\n",
       "      <td>1</td>\n",
       "      <td>1</td>\n",
       "    </tr>\n",
       "    <tr>\n",
       "      <th>2014-01-01 01:30:00</th>\n",
       "      <td>1</td>\n",
       "      <td>2</td>\n",
       "      <td>1</td>\n",
       "      <td>1</td>\n",
       "      <td>2014</td>\n",
       "      <td>1</td>\n",
       "      <td>1</td>\n",
       "      <td>1</td>\n",
       "    </tr>\n",
       "    <tr>\n",
       "      <th>2014-01-01 02:30:00</th>\n",
       "      <td>2</td>\n",
       "      <td>2</td>\n",
       "      <td>1</td>\n",
       "      <td>1</td>\n",
       "      <td>2014</td>\n",
       "      <td>1</td>\n",
       "      <td>1</td>\n",
       "      <td>1</td>\n",
       "    </tr>\n",
       "    <tr>\n",
       "      <th>2014-01-01 03:30:00</th>\n",
       "      <td>3</td>\n",
       "      <td>2</td>\n",
       "      <td>1</td>\n",
       "      <td>1</td>\n",
       "      <td>2014</td>\n",
       "      <td>1</td>\n",
       "      <td>1</td>\n",
       "      <td>1</td>\n",
       "    </tr>\n",
       "    <tr>\n",
       "      <th>2014-01-01 04:30:00</th>\n",
       "      <td>4</td>\n",
       "      <td>2</td>\n",
       "      <td>1</td>\n",
       "      <td>1</td>\n",
       "      <td>2014</td>\n",
       "      <td>1</td>\n",
       "      <td>1</td>\n",
       "      <td>1</td>\n",
       "    </tr>\n",
       "    <tr>\n",
       "      <th>...</th>\n",
       "      <td>...</td>\n",
       "      <td>...</td>\n",
       "      <td>...</td>\n",
       "      <td>...</td>\n",
       "      <td>...</td>\n",
       "      <td>...</td>\n",
       "      <td>...</td>\n",
       "      <td>...</td>\n",
       "    </tr>\n",
       "    <tr>\n",
       "      <th>2019-04-02 13:30:00</th>\n",
       "      <td>13</td>\n",
       "      <td>1</td>\n",
       "      <td>2</td>\n",
       "      <td>4</td>\n",
       "      <td>2019</td>\n",
       "      <td>92</td>\n",
       "      <td>2</td>\n",
       "      <td>14</td>\n",
       "    </tr>\n",
       "    <tr>\n",
       "      <th>2019-04-02 14:30:00</th>\n",
       "      <td>14</td>\n",
       "      <td>1</td>\n",
       "      <td>2</td>\n",
       "      <td>4</td>\n",
       "      <td>2019</td>\n",
       "      <td>92</td>\n",
       "      <td>2</td>\n",
       "      <td>14</td>\n",
       "    </tr>\n",
       "    <tr>\n",
       "      <th>2019-04-02 15:30:00</th>\n",
       "      <td>15</td>\n",
       "      <td>1</td>\n",
       "      <td>2</td>\n",
       "      <td>4</td>\n",
       "      <td>2019</td>\n",
       "      <td>92</td>\n",
       "      <td>2</td>\n",
       "      <td>14</td>\n",
       "    </tr>\n",
       "    <tr>\n",
       "      <th>2019-04-02 16:30:00</th>\n",
       "      <td>16</td>\n",
       "      <td>1</td>\n",
       "      <td>2</td>\n",
       "      <td>4</td>\n",
       "      <td>2019</td>\n",
       "      <td>92</td>\n",
       "      <td>2</td>\n",
       "      <td>14</td>\n",
       "    </tr>\n",
       "    <tr>\n",
       "      <th>2019-04-02 17:30:00</th>\n",
       "      <td>17</td>\n",
       "      <td>1</td>\n",
       "      <td>2</td>\n",
       "      <td>4</td>\n",
       "      <td>2019</td>\n",
       "      <td>92</td>\n",
       "      <td>2</td>\n",
       "      <td>14</td>\n",
       "    </tr>\n",
       "  </tbody>\n",
       "</table>\n",
       "<p>46026 rows × 8 columns</p>\n",
       "</div>"
      ],
      "text/plain": [
       "                     hour  dayofweek  quarter  month  year  dayofyear  \\\n",
       "Date                                                                    \n",
       "2014-01-01 00:30:00     0          2        1      1  2014          1   \n",
       "2014-01-01 01:30:00     1          2        1      1  2014          1   \n",
       "2014-01-01 02:30:00     2          2        1      1  2014          1   \n",
       "2014-01-01 03:30:00     3          2        1      1  2014          1   \n",
       "2014-01-01 04:30:00     4          2        1      1  2014          1   \n",
       "...                   ...        ...      ...    ...   ...        ...   \n",
       "2019-04-02 13:30:00    13          1        2      4  2019         92   \n",
       "2019-04-02 14:30:00    14          1        2      4  2019         92   \n",
       "2019-04-02 15:30:00    15          1        2      4  2019         92   \n",
       "2019-04-02 16:30:00    16          1        2      4  2019         92   \n",
       "2019-04-02 17:30:00    17          1        2      4  2019         92   \n",
       "\n",
       "                     dayofmonth  weekofyear  \n",
       "Date                                         \n",
       "2014-01-01 00:30:00           1           1  \n",
       "2014-01-01 01:30:00           1           1  \n",
       "2014-01-01 02:30:00           1           1  \n",
       "2014-01-01 03:30:00           1           1  \n",
       "2014-01-01 04:30:00           1           1  \n",
       "...                         ...         ...  \n",
       "2019-04-02 13:30:00           2          14  \n",
       "2019-04-02 14:30:00           2          14  \n",
       "2019-04-02 15:30:00           2          14  \n",
       "2019-04-02 16:30:00           2          14  \n",
       "2019-04-02 17:30:00           2          14  \n",
       "\n",
       "[46026 rows x 8 columns]"
      ]
     },
     "execution_count": 29,
     "metadata": {},
     "output_type": "execute_result"
    }
   ],
   "source": [
    "trainX"
   ]
  },
  {
   "cell_type": "code",
   "execution_count": 30,
   "id": "326d9896",
   "metadata": {},
   "outputs": [
    {
     "data": {
      "text/plain": [
       "Date\n",
       "2014-01-01 00:30:00      0.00\n",
       "2014-01-01 01:30:00      0.00\n",
       "2014-01-01 02:30:00      1.45\n",
       "2014-01-01 03:30:00    150.72\n",
       "2014-01-01 04:30:00    373.87\n",
       "                        ...  \n",
       "2019-04-02 13:30:00      0.00\n",
       "2019-04-02 14:30:00      0.00\n",
       "2019-04-02 15:30:00      0.00\n",
       "2019-04-02 16:30:00      0.00\n",
       "2019-04-02 17:30:00      0.00\n",
       "Name: Irradiance, Length: 46026, dtype: float64"
      ]
     },
     "execution_count": 30,
     "metadata": {},
     "output_type": "execute_result"
    }
   ],
   "source": [
    "trainY"
   ]
  },
  {
   "cell_type": "code",
   "execution_count": 31,
   "id": "819a97d1",
   "metadata": {},
   "outputs": [
    {
     "data": {
      "text/html": [
       "<div>\n",
       "<style scoped>\n",
       "    .dataframe tbody tr th:only-of-type {\n",
       "        vertical-align: middle;\n",
       "    }\n",
       "\n",
       "    .dataframe tbody tr th {\n",
       "        vertical-align: top;\n",
       "    }\n",
       "\n",
       "    .dataframe thead th {\n",
       "        text-align: right;\n",
       "    }\n",
       "</style>\n",
       "<table border=\"1\" class=\"dataframe\">\n",
       "  <thead>\n",
       "    <tr style=\"text-align: right;\">\n",
       "      <th></th>\n",
       "      <th>hour</th>\n",
       "      <th>dayofweek</th>\n",
       "      <th>quarter</th>\n",
       "      <th>month</th>\n",
       "      <th>year</th>\n",
       "      <th>dayofyear</th>\n",
       "      <th>dayofmonth</th>\n",
       "      <th>weekofyear</th>\n",
       "    </tr>\n",
       "    <tr>\n",
       "      <th>Date</th>\n",
       "      <th></th>\n",
       "      <th></th>\n",
       "      <th></th>\n",
       "      <th></th>\n",
       "      <th></th>\n",
       "      <th></th>\n",
       "      <th></th>\n",
       "      <th></th>\n",
       "    </tr>\n",
       "  </thead>\n",
       "  <tbody>\n",
       "    <tr>\n",
       "      <th>2019-04-02 18:30:00</th>\n",
       "      <td>18</td>\n",
       "      <td>1</td>\n",
       "      <td>2</td>\n",
       "      <td>4</td>\n",
       "      <td>2019</td>\n",
       "      <td>92</td>\n",
       "      <td>2</td>\n",
       "      <td>14</td>\n",
       "    </tr>\n",
       "    <tr>\n",
       "      <th>2019-04-02 19:30:00</th>\n",
       "      <td>19</td>\n",
       "      <td>1</td>\n",
       "      <td>2</td>\n",
       "      <td>4</td>\n",
       "      <td>2019</td>\n",
       "      <td>92</td>\n",
       "      <td>2</td>\n",
       "      <td>14</td>\n",
       "    </tr>\n",
       "    <tr>\n",
       "      <th>2019-04-02 20:30:00</th>\n",
       "      <td>20</td>\n",
       "      <td>1</td>\n",
       "      <td>2</td>\n",
       "      <td>4</td>\n",
       "      <td>2019</td>\n",
       "      <td>92</td>\n",
       "      <td>2</td>\n",
       "      <td>14</td>\n",
       "    </tr>\n",
       "    <tr>\n",
       "      <th>2019-04-02 21:30:00</th>\n",
       "      <td>21</td>\n",
       "      <td>1</td>\n",
       "      <td>2</td>\n",
       "      <td>4</td>\n",
       "      <td>2019</td>\n",
       "      <td>92</td>\n",
       "      <td>2</td>\n",
       "      <td>14</td>\n",
       "    </tr>\n",
       "    <tr>\n",
       "      <th>2019-04-02 22:30:00</th>\n",
       "      <td>22</td>\n",
       "      <td>1</td>\n",
       "      <td>2</td>\n",
       "      <td>4</td>\n",
       "      <td>2019</td>\n",
       "      <td>92</td>\n",
       "      <td>2</td>\n",
       "      <td>14</td>\n",
       "    </tr>\n",
       "    <tr>\n",
       "      <th>...</th>\n",
       "      <td>...</td>\n",
       "      <td>...</td>\n",
       "      <td>...</td>\n",
       "      <td>...</td>\n",
       "      <td>...</td>\n",
       "      <td>...</td>\n",
       "      <td>...</td>\n",
       "      <td>...</td>\n",
       "    </tr>\n",
       "    <tr>\n",
       "      <th>2020-12-31 19:30:00</th>\n",
       "      <td>19</td>\n",
       "      <td>3</td>\n",
       "      <td>4</td>\n",
       "      <td>12</td>\n",
       "      <td>2020</td>\n",
       "      <td>366</td>\n",
       "      <td>31</td>\n",
       "      <td>53</td>\n",
       "    </tr>\n",
       "    <tr>\n",
       "      <th>2020-12-31 20:30:00</th>\n",
       "      <td>20</td>\n",
       "      <td>3</td>\n",
       "      <td>4</td>\n",
       "      <td>12</td>\n",
       "      <td>2020</td>\n",
       "      <td>366</td>\n",
       "      <td>31</td>\n",
       "      <td>53</td>\n",
       "    </tr>\n",
       "    <tr>\n",
       "      <th>2020-12-31 21:30:00</th>\n",
       "      <td>21</td>\n",
       "      <td>3</td>\n",
       "      <td>4</td>\n",
       "      <td>12</td>\n",
       "      <td>2020</td>\n",
       "      <td>366</td>\n",
       "      <td>31</td>\n",
       "      <td>53</td>\n",
       "    </tr>\n",
       "    <tr>\n",
       "      <th>2020-12-31 22:30:00</th>\n",
       "      <td>22</td>\n",
       "      <td>3</td>\n",
       "      <td>4</td>\n",
       "      <td>12</td>\n",
       "      <td>2020</td>\n",
       "      <td>366</td>\n",
       "      <td>31</td>\n",
       "      <td>53</td>\n",
       "    </tr>\n",
       "    <tr>\n",
       "      <th>2020-12-31 23:30:00</th>\n",
       "      <td>23</td>\n",
       "      <td>3</td>\n",
       "      <td>4</td>\n",
       "      <td>12</td>\n",
       "      <td>2020</td>\n",
       "      <td>366</td>\n",
       "      <td>31</td>\n",
       "      <td>53</td>\n",
       "    </tr>\n",
       "  </tbody>\n",
       "</table>\n",
       "<p>15342 rows × 8 columns</p>\n",
       "</div>"
      ],
      "text/plain": [
       "                     hour  dayofweek  quarter  month  year  dayofyear  \\\n",
       "Date                                                                    \n",
       "2019-04-02 18:30:00    18          1        2      4  2019         92   \n",
       "2019-04-02 19:30:00    19          1        2      4  2019         92   \n",
       "2019-04-02 20:30:00    20          1        2      4  2019         92   \n",
       "2019-04-02 21:30:00    21          1        2      4  2019         92   \n",
       "2019-04-02 22:30:00    22          1        2      4  2019         92   \n",
       "...                   ...        ...      ...    ...   ...        ...   \n",
       "2020-12-31 19:30:00    19          3        4     12  2020        366   \n",
       "2020-12-31 20:30:00    20          3        4     12  2020        366   \n",
       "2020-12-31 21:30:00    21          3        4     12  2020        366   \n",
       "2020-12-31 22:30:00    22          3        4     12  2020        366   \n",
       "2020-12-31 23:30:00    23          3        4     12  2020        366   \n",
       "\n",
       "                     dayofmonth  weekofyear  \n",
       "Date                                         \n",
       "2019-04-02 18:30:00           2          14  \n",
       "2019-04-02 19:30:00           2          14  \n",
       "2019-04-02 20:30:00           2          14  \n",
       "2019-04-02 21:30:00           2          14  \n",
       "2019-04-02 22:30:00           2          14  \n",
       "...                         ...         ...  \n",
       "2020-12-31 19:30:00          31          53  \n",
       "2020-12-31 20:30:00          31          53  \n",
       "2020-12-31 21:30:00          31          53  \n",
       "2020-12-31 22:30:00          31          53  \n",
       "2020-12-31 23:30:00          31          53  \n",
       "\n",
       "[15342 rows x 8 columns]"
      ]
     },
     "execution_count": 31,
     "metadata": {},
     "output_type": "execute_result"
    }
   ],
   "source": [
    "testX"
   ]
  },
  {
   "cell_type": "code",
   "execution_count": 32,
   "id": "e46ef3d7",
   "metadata": {},
   "outputs": [
    {
     "data": {
      "text/plain": [
       "Date\n",
       "2019-04-02 18:30:00    0.0\n",
       "2019-04-02 19:30:00    0.0\n",
       "2019-04-02 20:30:00    0.0\n",
       "2019-04-02 21:30:00    0.0\n",
       "2019-04-02 22:30:00    0.0\n",
       "                      ... \n",
       "2020-12-31 19:30:00    0.0\n",
       "2020-12-31 20:30:00    0.0\n",
       "2020-12-31 21:30:00    0.0\n",
       "2020-12-31 22:30:00    0.0\n",
       "2020-12-31 23:30:00    0.0\n",
       "Name: Irradiance, Length: 15342, dtype: float64"
      ]
     },
     "execution_count": 32,
     "metadata": {},
     "output_type": "execute_result"
    }
   ],
   "source": [
    "testY"
   ]
  },
  {
   "cell_type": "code",
   "execution_count": 33,
   "id": "4894584b",
   "metadata": {},
   "outputs": [
    {
     "name": "stdout",
     "output_type": "stream",
     "text": [
      "[19:08:38] WARNING: C:/Users/Administrator/workspace/xgboost-win64_release_1.5.1/src/objective/regression_obj.cu:188: reg:linear is now deprecated in favor of reg:squarederror.\n"
     ]
    },
    {
     "data": {
      "text/plain": [
       "XGBRegressor(base_score=0.5, booster='gbtree', colsample_bylevel=1,\n",
       "             colsample_bynode=1, colsample_bytree=1, enable_categorical=False,\n",
       "             gamma=0, gpu_id=-1, importance_type=None,\n",
       "             interaction_constraints='', learning_rate=0.300000012,\n",
       "             max_delta_step=0, max_depth=6, min_child_weight=1, missing=nan,\n",
       "             monotone_constraints='()', n_estimators=1000, n_jobs=16,\n",
       "             num_parallel_tree=1, objective='reg:linear', predictor='auto',\n",
       "             random_state=0, reg_alpha=0, reg_lambda=1, scale_pos_weight=1,\n",
       "             subsample=1, tree_method='exact', validate_parameters=1,\n",
       "             verbosity=None)"
      ]
     },
     "execution_count": 33,
     "metadata": {},
     "output_type": "execute_result"
    }
   ],
   "source": [
    "xgb = XGBRegressor(objective= 'reg:linear', n_estimators=1000)\n",
    "# xgb\n",
    "# xgb = XGBRegressor(n_estimators=1000, max_depth=7, eta=0.1, subsample=0.7, colsample_bytree=0.8)\n",
    "xgb\n",
    "xgb.fit(trainX, trainY,\n",
    "        eval_set=[(trainX, trainY), (testX, testY)],\n",
    "        early_stopping_rounds=50,\n",
    "        verbose=False) # Change verbose to True if you want to see it train"
   ]
  },
  {
   "cell_type": "code",
   "execution_count": 34,
   "id": "19384112",
   "metadata": {},
   "outputs": [],
   "source": [
    "import pandas as pd\n",
    "import numpy as np\n",
    "\n",
    "from matplotlib import pyplot as plt\n",
    "from sklearn import metrics\n",
    "\n",
    "from pmdarima.model_selection import train_test_split as time_train_test_split\n",
    "\n",
    "from xgboost import XGBRegressor\n",
    "from xgboost import plot_importance\n",
    "\n",
    "import warnings\n",
    "warnings.filterwarnings(\"ignore\")"
   ]
  },
  {
   "cell_type": "code",
   "execution_count": 35,
   "id": "e372aa21",
   "metadata": {},
   "outputs": [
    {
     "data": {
      "text/plain": [
       "0.9124111413390217"
      ]
     },
     "execution_count": 35,
     "metadata": {},
     "output_type": "execute_result"
    }
   ],
   "source": [
    "score = xgb.score(testX,testY)\n",
    "score"
   ]
  },
  {
   "cell_type": "code",
   "execution_count": 36,
   "id": "cd4cc6d9",
   "metadata": {},
   "outputs": [
    {
     "data": {
      "text/plain": [
       "<AxesSubplot:title={'center':'Feature importance'}, xlabel='F score', ylabel='Features'>"
      ]
     },
     "execution_count": 36,
     "metadata": {},
     "output_type": "execute_result"
    },
    {
     "data": {
      "image/png": "[encoded data removed]",
      "text/plain": [
       "<Figure size 432x288 with 1 Axes>"
      ]
     },
     "metadata": {
      "needs_background": "light"
     },
     "output_type": "display_data"
    }
   ],
   "source": [
    "feature_importance = plot_importance(xgb, height=0.9)\n",
    "feature_importance"
   ]
  },
  {
   "cell_type": "code",
   "execution_count": 37,
   "id": "5a9af2af",
   "metadata": {},
   "outputs": [
    {
     "data": {
      "text/plain": [
       "array([0.0033923, 0.0033923, 0.0033923, ..., 0.0033923, 0.0033923,\n",
       "       0.0033923], dtype=float32)"
      ]
     },
     "execution_count": 37,
     "metadata": {},
     "output_type": "execute_result"
    }
   ],
   "source": [
    "predicted_results = xgb.predict(testX)\n",
    "predicted_results"
   ]
  },
  {
   "cell_type": "markdown",
   "id": "013589d5",
   "metadata": {},
   "source": [
    "# Evaluation Metrics"
   ]
  },
  {
   "cell_type": "code",
   "execution_count": 38,
   "id": "7d07ef88",
   "metadata": {},
   "outputs": [
    {
     "name": "stdout",
     "output_type": "stream",
     "text": [
      "MSE is : 19622.821061618542\n",
      "MAE is : 59.995325116599574\n",
      "RMSE is : 140.0814800807678\n"
     ]
    }
   ],
   "source": [
    "val = timeseries_evaluation_metrics_func(testY, predicted_results)\n"
   ]
  },
  {
   "cell_type": "code",
   "execution_count": 39,
   "id": "b88fdaa1",
   "metadata": {},
   "outputs": [],
   "source": [
    "# Making dataframe of TestY and predicted value"
   ]
  },
  {
   "cell_type": "code",
   "execution_count": 40,
   "id": "ac93f9fc",
   "metadata": {},
   "outputs": [
    {
     "data": {
      "text/html": [
       "<div>\n",
       "<style scoped>\n",
       "    .dataframe tbody tr th:only-of-type {\n",
       "        vertical-align: middle;\n",
       "    }\n",
       "\n",
       "    .dataframe tbody tr th {\n",
       "        vertical-align: top;\n",
       "    }\n",
       "\n",
       "    .dataframe thead th {\n",
       "        text-align: right;\n",
       "    }\n",
       "</style>\n",
       "<table border=\"1\" class=\"dataframe\">\n",
       "  <thead>\n",
       "    <tr style=\"text-align: right;\">\n",
       "      <th></th>\n",
       "      <th>Irradiance</th>\n",
       "    </tr>\n",
       "    <tr>\n",
       "      <th>Date</th>\n",
       "      <th></th>\n",
       "    </tr>\n",
       "  </thead>\n",
       "  <tbody>\n",
       "    <tr>\n",
       "      <th>2014-01-01 00:30:00</th>\n",
       "      <td>0.00</td>\n",
       "    </tr>\n",
       "    <tr>\n",
       "      <th>2014-01-01 01:30:00</th>\n",
       "      <td>0.00</td>\n",
       "    </tr>\n",
       "    <tr>\n",
       "      <th>2014-01-01 02:30:00</th>\n",
       "      <td>1.45</td>\n",
       "    </tr>\n",
       "    <tr>\n",
       "      <th>2014-01-01 03:30:00</th>\n",
       "      <td>150.72</td>\n",
       "    </tr>\n",
       "    <tr>\n",
       "      <th>2014-01-01 04:30:00</th>\n",
       "      <td>373.87</td>\n",
       "    </tr>\n",
       "    <tr>\n",
       "      <th>...</th>\n",
       "      <td>...</td>\n",
       "    </tr>\n",
       "    <tr>\n",
       "      <th>2020-12-31 19:30:00</th>\n",
       "      <td>0.00</td>\n",
       "    </tr>\n",
       "    <tr>\n",
       "      <th>2020-12-31 20:30:00</th>\n",
       "      <td>0.00</td>\n",
       "    </tr>\n",
       "    <tr>\n",
       "      <th>2020-12-31 21:30:00</th>\n",
       "      <td>0.00</td>\n",
       "    </tr>\n",
       "    <tr>\n",
       "      <th>2020-12-31 22:30:00</th>\n",
       "      <td>0.00</td>\n",
       "    </tr>\n",
       "    <tr>\n",
       "      <th>2020-12-31 23:30:00</th>\n",
       "      <td>0.00</td>\n",
       "    </tr>\n",
       "  </tbody>\n",
       "</table>\n",
       "<p>61368 rows × 1 columns</p>\n",
       "</div>"
      ],
      "text/plain": [
       "                     Irradiance\n",
       "Date                           \n",
       "2014-01-01 00:30:00        0.00\n",
       "2014-01-01 01:30:00        0.00\n",
       "2014-01-01 02:30:00        1.45\n",
       "2014-01-01 03:30:00      150.72\n",
       "2014-01-01 04:30:00      373.87\n",
       "...                         ...\n",
       "2020-12-31 19:30:00        0.00\n",
       "2020-12-31 20:30:00        0.00\n",
       "2020-12-31 21:30:00        0.00\n",
       "2020-12-31 22:30:00        0.00\n",
       "2020-12-31 23:30:00        0.00\n",
       "\n",
       "[61368 rows x 1 columns]"
      ]
     },
     "execution_count": 40,
     "metadata": {},
     "output_type": "execute_result"
    }
   ],
   "source": [
    "df2"
   ]
  },
  {
   "cell_type": "code",
   "execution_count": 41,
   "id": "b1fe4617",
   "metadata": {},
   "outputs": [],
   "source": [
    "predicted_test_df = df2.copy()\n",
    "predicted_test_df = df2[46026:]\n",
    "predicted_test_df['Pred_testy'] = predicted_results\n",
    "predicted_test_df.columns = ['Test_Y','Predicted_test_y']"
   ]
  },
  {
   "cell_type": "code",
   "execution_count": 42,
   "id": "9f442774",
   "metadata": {},
   "outputs": [
    {
     "data": {
      "text/html": [
       "<div>\n",
       "<style scoped>\n",
       "    .dataframe tbody tr th:only-of-type {\n",
       "        vertical-align: middle;\n",
       "    }\n",
       "\n",
       "    .dataframe tbody tr th {\n",
       "        vertical-align: top;\n",
       "    }\n",
       "\n",
       "    .dataframe thead th {\n",
       "        text-align: right;\n",
       "    }\n",
       "</style>\n",
       "<table border=\"1\" class=\"dataframe\">\n",
       "  <thead>\n",
       "    <tr style=\"text-align: right;\">\n",
       "      <th></th>\n",
       "      <th>Test_Y</th>\n",
       "      <th>Predicted_test_y</th>\n",
       "    </tr>\n",
       "    <tr>\n",
       "      <th>Date</th>\n",
       "      <th></th>\n",
       "      <th></th>\n",
       "    </tr>\n",
       "  </thead>\n",
       "  <tbody>\n",
       "    <tr>\n",
       "      <th>2019-04-02 18:30:00</th>\n",
       "      <td>0.0</td>\n",
       "      <td>0.003392</td>\n",
       "    </tr>\n",
       "    <tr>\n",
       "      <th>2019-04-02 19:30:00</th>\n",
       "      <td>0.0</td>\n",
       "      <td>0.003392</td>\n",
       "    </tr>\n",
       "    <tr>\n",
       "      <th>2019-04-02 20:30:00</th>\n",
       "      <td>0.0</td>\n",
       "      <td>0.003392</td>\n",
       "    </tr>\n",
       "    <tr>\n",
       "      <th>2019-04-02 21:30:00</th>\n",
       "      <td>0.0</td>\n",
       "      <td>0.003392</td>\n",
       "    </tr>\n",
       "    <tr>\n",
       "      <th>2019-04-02 22:30:00</th>\n",
       "      <td>0.0</td>\n",
       "      <td>0.003392</td>\n",
       "    </tr>\n",
       "    <tr>\n",
       "      <th>...</th>\n",
       "      <td>...</td>\n",
       "      <td>...</td>\n",
       "    </tr>\n",
       "    <tr>\n",
       "      <th>2020-12-31 19:30:00</th>\n",
       "      <td>0.0</td>\n",
       "      <td>0.003392</td>\n",
       "    </tr>\n",
       "    <tr>\n",
       "      <th>2020-12-31 20:30:00</th>\n",
       "      <td>0.0</td>\n",
       "      <td>0.003392</td>\n",
       "    </tr>\n",
       "    <tr>\n",
       "      <th>2020-12-31 21:30:00</th>\n",
       "      <td>0.0</td>\n",
       "      <td>0.003392</td>\n",
       "    </tr>\n",
       "    <tr>\n",
       "      <th>2020-12-31 22:30:00</th>\n",
       "      <td>0.0</td>\n",
       "      <td>0.003392</td>\n",
       "    </tr>\n",
       "    <tr>\n",
       "      <th>2020-12-31 23:30:00</th>\n",
       "      <td>0.0</td>\n",
       "      <td>0.003392</td>\n",
       "    </tr>\n",
       "  </tbody>\n",
       "</table>\n",
       "<p>15342 rows × 2 columns</p>\n",
       "</div>"
      ],
      "text/plain": [
       "                     Test_Y  Predicted_test_y\n",
       "Date                                         \n",
       "2019-04-02 18:30:00     0.0          0.003392\n",
       "2019-04-02 19:30:00     0.0          0.003392\n",
       "2019-04-02 20:30:00     0.0          0.003392\n",
       "2019-04-02 21:30:00     0.0          0.003392\n",
       "2019-04-02 22:30:00     0.0          0.003392\n",
       "...                     ...               ...\n",
       "2020-12-31 19:30:00     0.0          0.003392\n",
       "2020-12-31 20:30:00     0.0          0.003392\n",
       "2020-12-31 21:30:00     0.0          0.003392\n",
       "2020-12-31 22:30:00     0.0          0.003392\n",
       "2020-12-31 23:30:00     0.0          0.003392\n",
       "\n",
       "[15342 rows x 2 columns]"
      ]
     },
     "execution_count": 42,
     "metadata": {},
     "output_type": "execute_result"
    }
   ],
   "source": [
    "predicted_test_df"
   ]
  },
  {
   "cell_type": "code",
   "execution_count": 43,
   "id": "32571aba",
   "metadata": {},
   "outputs": [
    {
     "data": {
      "image/png": "[encoded data removed]",
      "text/plain": [
       "<Figure size 936x576 with 1 Axes>"
      ]
     },
     "metadata": {
      "needs_background": "light"
     },
     "output_type": "display_data"
    }
   ],
   "source": [
    "plt.figure(figsize=(13,8))\n",
    "\n",
    "plt.plot(predicted_test_df['Test_Y'])\n",
    "plt.plot(predicted_test_df['Predicted_test_y'])\n",
    "plt.title(\"Actual vs Predicted\")\n",
    "plt.ylabel(\"Irradiance\")\n",
    "plt.xlabel(\"Date\", fontsize = 12)\n",
    "\n",
    "plt.legend(('TestY (Actual)','Predicted'))\n",
    "plt.show()"
   ]
  },
  {
   "cell_type": "code",
   "execution_count": 44,
   "id": "85affd81",
   "metadata": {},
   "outputs": [],
   "source": [
    "test['Prediction'] = predicted_results\n",
    "Irr_all = pd.concat([test, train], sort=False)\n",
    "Irr_all = Irr_all.rename(columns={'Irradiation':'Original_value'})\n",
    "\n"
   ]
  },
  {
   "cell_type": "code",
   "execution_count": 45,
   "id": "c93c1fb0",
   "metadata": {},
   "outputs": [
    {
     "data": {
      "text/html": [
       "<div>\n",
       "<style scoped>\n",
       "    .dataframe tbody tr th:only-of-type {\n",
       "        vertical-align: middle;\n",
       "    }\n",
       "\n",
       "    .dataframe tbody tr th {\n",
       "        vertical-align: top;\n",
       "    }\n",
       "\n",
       "    .dataframe thead th {\n",
       "        text-align: right;\n",
       "    }\n",
       "</style>\n",
       "<table border=\"1\" class=\"dataframe\">\n",
       "  <thead>\n",
       "    <tr style=\"text-align: right;\">\n",
       "      <th></th>\n",
       "      <th>Irradiance</th>\n",
       "      <th>Prediction</th>\n",
       "    </tr>\n",
       "    <tr>\n",
       "      <th>Date</th>\n",
       "      <th></th>\n",
       "      <th></th>\n",
       "    </tr>\n",
       "  </thead>\n",
       "  <tbody>\n",
       "    <tr>\n",
       "      <th>2019-04-02 18:30:00</th>\n",
       "      <td>0.0</td>\n",
       "      <td>0.003392</td>\n",
       "    </tr>\n",
       "    <tr>\n",
       "      <th>2019-04-02 19:30:00</th>\n",
       "      <td>0.0</td>\n",
       "      <td>0.003392</td>\n",
       "    </tr>\n",
       "    <tr>\n",
       "      <th>2019-04-02 20:30:00</th>\n",
       "      <td>0.0</td>\n",
       "      <td>0.003392</td>\n",
       "    </tr>\n",
       "    <tr>\n",
       "      <th>2019-04-02 21:30:00</th>\n",
       "      <td>0.0</td>\n",
       "      <td>0.003392</td>\n",
       "    </tr>\n",
       "    <tr>\n",
       "      <th>2019-04-02 22:30:00</th>\n",
       "      <td>0.0</td>\n",
       "      <td>0.003392</td>\n",
       "    </tr>\n",
       "    <tr>\n",
       "      <th>...</th>\n",
       "      <td>...</td>\n",
       "      <td>...</td>\n",
       "    </tr>\n",
       "    <tr>\n",
       "      <th>2019-04-02 13:30:00</th>\n",
       "      <td>0.0</td>\n",
       "      <td>NaN</td>\n",
       "    </tr>\n",
       "    <tr>\n",
       "      <th>2019-04-02 14:30:00</th>\n",
       "      <td>0.0</td>\n",
       "      <td>NaN</td>\n",
       "    </tr>\n",
       "    <tr>\n",
       "      <th>2019-04-02 15:30:00</th>\n",
       "      <td>0.0</td>\n",
       "      <td>NaN</td>\n",
       "    </tr>\n",
       "    <tr>\n",
       "      <th>2019-04-02 16:30:00</th>\n",
       "      <td>0.0</td>\n",
       "      <td>NaN</td>\n",
       "    </tr>\n",
       "    <tr>\n",
       "      <th>2019-04-02 17:30:00</th>\n",
       "      <td>0.0</td>\n",
       "      <td>NaN</td>\n",
       "    </tr>\n",
       "  </tbody>\n",
       "</table>\n",
       "<p>61368 rows × 2 columns</p>\n",
       "</div>"
      ],
      "text/plain": [
       "                     Irradiance  Prediction\n",
       "Date                                       \n",
       "2019-04-02 18:30:00         0.0    0.003392\n",
       "2019-04-02 19:30:00         0.0    0.003392\n",
       "2019-04-02 20:30:00         0.0    0.003392\n",
       "2019-04-02 21:30:00         0.0    0.003392\n",
       "2019-04-02 22:30:00         0.0    0.003392\n",
       "...                         ...         ...\n",
       "2019-04-02 13:30:00         0.0         NaN\n",
       "2019-04-02 14:30:00         0.0         NaN\n",
       "2019-04-02 15:30:00         0.0         NaN\n",
       "2019-04-02 16:30:00         0.0         NaN\n",
       "2019-04-02 17:30:00         0.0         NaN\n",
       "\n",
       "[61368 rows x 2 columns]"
      ]
     },
     "execution_count": 45,
     "metadata": {},
     "output_type": "execute_result"
    }
   ],
   "source": [
    "Irr_all"
   ]
  },
  {
   "cell_type": "code",
   "execution_count": 46,
   "id": "ba5e914d",
   "metadata": {},
   "outputs": [
    {
     "data": {
      "image/png": "[encoded data removed]",
      "text/plain": [
       "<Figure size 864x360 with 1 Axes>"
      ]
     },
     "metadata": {
      "needs_background": "light"
     },
     "output_type": "display_data"
    }
   ],
   "source": [
    "Overview_Complete_Data_And_Prediction = Irr_all[['Irradiance','Prediction']].plot(figsize=(12, 5))"
   ]
  },
  {
   "cell_type": "markdown",
   "id": "e98c9d1e",
   "metadata": {},
   "source": [
    "# FUTURE FORECAST "
   ]
  },
  {
   "cell_type": "code",
   "execution_count": 47,
   "id": "312ac9e7",
   "metadata": {},
   "outputs": [],
   "source": [
    "dti = pd.date_range(\"2021-01-01 00:30:00\", periods=20000, freq=\"H\")"
   ]
  },
  {
   "cell_type": "code",
   "execution_count": 48,
   "id": "5d969186",
   "metadata": {},
   "outputs": [],
   "source": [
    "df_future_dates = pd.DataFrame(dti, columns = ['Date'])\n"
   ]
  },
  {
   "cell_type": "code",
   "execution_count": 49,
   "id": "ad74d117",
   "metadata": {},
   "outputs": [
    {
     "data": {
      "text/html": [
       "<div>\n",
       "<style scoped>\n",
       "    .dataframe tbody tr th:only-of-type {\n",
       "        vertical-align: middle;\n",
       "    }\n",
       "\n",
       "    .dataframe tbody tr th {\n",
       "        vertical-align: top;\n",
       "    }\n",
       "\n",
       "    .dataframe thead th {\n",
       "        text-align: right;\n",
       "    }\n",
       "</style>\n",
       "<table border=\"1\" class=\"dataframe\">\n",
       "  <thead>\n",
       "    <tr style=\"text-align: right;\">\n",
       "      <th></th>\n",
       "      <th>Date</th>\n",
       "    </tr>\n",
       "  </thead>\n",
       "  <tbody>\n",
       "    <tr>\n",
       "      <th>0</th>\n",
       "      <td>2021-01-01 00:30:00</td>\n",
       "    </tr>\n",
       "    <tr>\n",
       "      <th>1</th>\n",
       "      <td>2021-01-01 01:30:00</td>\n",
       "    </tr>\n",
       "    <tr>\n",
       "      <th>2</th>\n",
       "      <td>2021-01-01 02:30:00</td>\n",
       "    </tr>\n",
       "    <tr>\n",
       "      <th>3</th>\n",
       "      <td>2021-01-01 03:30:00</td>\n",
       "    </tr>\n",
       "    <tr>\n",
       "      <th>4</th>\n",
       "      <td>2021-01-01 04:30:00</td>\n",
       "    </tr>\n",
       "    <tr>\n",
       "      <th>...</th>\n",
       "      <td>...</td>\n",
       "    </tr>\n",
       "    <tr>\n",
       "      <th>295</th>\n",
       "      <td>2021-01-13 07:30:00</td>\n",
       "    </tr>\n",
       "    <tr>\n",
       "      <th>296</th>\n",
       "      <td>2021-01-13 08:30:00</td>\n",
       "    </tr>\n",
       "    <tr>\n",
       "      <th>297</th>\n",
       "      <td>2021-01-13 09:30:00</td>\n",
       "    </tr>\n",
       "    <tr>\n",
       "      <th>298</th>\n",
       "      <td>2021-01-13 10:30:00</td>\n",
       "    </tr>\n",
       "    <tr>\n",
       "      <th>299</th>\n",
       "      <td>2021-01-13 11:30:00</td>\n",
       "    </tr>\n",
       "  </tbody>\n",
       "</table>\n",
       "<p>300 rows × 1 columns</p>\n",
       "</div>"
      ],
      "text/plain": [
       "                   Date\n",
       "0   2021-01-01 00:30:00\n",
       "1   2021-01-01 01:30:00\n",
       "2   2021-01-01 02:30:00\n",
       "3   2021-01-01 03:30:00\n",
       "4   2021-01-01 04:30:00\n",
       "..                  ...\n",
       "295 2021-01-13 07:30:00\n",
       "296 2021-01-13 08:30:00\n",
       "297 2021-01-13 09:30:00\n",
       "298 2021-01-13 10:30:00\n",
       "299 2021-01-13 11:30:00\n",
       "\n",
       "[300 rows x 1 columns]"
      ]
     },
     "execution_count": 49,
     "metadata": {},
     "output_type": "execute_result"
    }
   ],
   "source": [
    "df_future_dates.head(300)"
   ]
  },
  {
   "cell_type": "code",
   "execution_count": 50,
   "id": "9cb9ea22",
   "metadata": {},
   "outputs": [],
   "source": [
    "df_future_dates['Irradiance'] = np.nan"
   ]
  },
  {
   "cell_type": "code",
   "execution_count": 51,
   "id": "c52cee0d",
   "metadata": {},
   "outputs": [
    {
     "data": {
      "text/html": [
       "<div>\n",
       "<style scoped>\n",
       "    .dataframe tbody tr th:only-of-type {\n",
       "        vertical-align: middle;\n",
       "    }\n",
       "\n",
       "    .dataframe tbody tr th {\n",
       "        vertical-align: top;\n",
       "    }\n",
       "\n",
       "    .dataframe thead th {\n",
       "        text-align: right;\n",
       "    }\n",
       "</style>\n",
       "<table border=\"1\" class=\"dataframe\">\n",
       "  <thead>\n",
       "    <tr style=\"text-align: right;\">\n",
       "      <th></th>\n",
       "      <th>Date</th>\n",
       "      <th>Irradiance</th>\n",
       "    </tr>\n",
       "  </thead>\n",
       "  <tbody>\n",
       "    <tr>\n",
       "      <th>0</th>\n",
       "      <td>2021-01-01 00:30:00</td>\n",
       "      <td>NaN</td>\n",
       "    </tr>\n",
       "    <tr>\n",
       "      <th>1</th>\n",
       "      <td>2021-01-01 01:30:00</td>\n",
       "      <td>NaN</td>\n",
       "    </tr>\n",
       "    <tr>\n",
       "      <th>2</th>\n",
       "      <td>2021-01-01 02:30:00</td>\n",
       "      <td>NaN</td>\n",
       "    </tr>\n",
       "    <tr>\n",
       "      <th>3</th>\n",
       "      <td>2021-01-01 03:30:00</td>\n",
       "      <td>NaN</td>\n",
       "    </tr>\n",
       "    <tr>\n",
       "      <th>4</th>\n",
       "      <td>2021-01-01 04:30:00</td>\n",
       "      <td>NaN</td>\n",
       "    </tr>\n",
       "    <tr>\n",
       "      <th>...</th>\n",
       "      <td>...</td>\n",
       "      <td>...</td>\n",
       "    </tr>\n",
       "    <tr>\n",
       "      <th>19995</th>\n",
       "      <td>2023-04-14 03:30:00</td>\n",
       "      <td>NaN</td>\n",
       "    </tr>\n",
       "    <tr>\n",
       "      <th>19996</th>\n",
       "      <td>2023-04-14 04:30:00</td>\n",
       "      <td>NaN</td>\n",
       "    </tr>\n",
       "    <tr>\n",
       "      <th>19997</th>\n",
       "      <td>2023-04-14 05:30:00</td>\n",
       "      <td>NaN</td>\n",
       "    </tr>\n",
       "    <tr>\n",
       "      <th>19998</th>\n",
       "      <td>2023-04-14 06:30:00</td>\n",
       "      <td>NaN</td>\n",
       "    </tr>\n",
       "    <tr>\n",
       "      <th>19999</th>\n",
       "      <td>2023-04-14 07:30:00</td>\n",
       "      <td>NaN</td>\n",
       "    </tr>\n",
       "  </tbody>\n",
       "</table>\n",
       "<p>20000 rows × 2 columns</p>\n",
       "</div>"
      ],
      "text/plain": [
       "                     Date  Irradiance\n",
       "0     2021-01-01 00:30:00         NaN\n",
       "1     2021-01-01 01:30:00         NaN\n",
       "2     2021-01-01 02:30:00         NaN\n",
       "3     2021-01-01 03:30:00         NaN\n",
       "4     2021-01-01 04:30:00         NaN\n",
       "...                   ...         ...\n",
       "19995 2023-04-14 03:30:00         NaN\n",
       "19996 2023-04-14 04:30:00         NaN\n",
       "19997 2023-04-14 05:30:00         NaN\n",
       "19998 2023-04-14 06:30:00         NaN\n",
       "19999 2023-04-14 07:30:00         NaN\n",
       "\n",
       "[20000 rows x 2 columns]"
      ]
     },
     "execution_count": 51,
     "metadata": {},
     "output_type": "execute_result"
    }
   ],
   "source": [
    "df_future_dates"
   ]
  },
  {
   "cell_type": "code",
   "execution_count": 52,
   "id": "71a02f87",
   "metadata": {},
   "outputs": [
    {
     "data": {
      "text/html": [
       "<div>\n",
       "<style scoped>\n",
       "    .dataframe tbody tr th:only-of-type {\n",
       "        vertical-align: middle;\n",
       "    }\n",
       "\n",
       "    .dataframe tbody tr th {\n",
       "        vertical-align: top;\n",
       "    }\n",
       "\n",
       "    .dataframe thead th {\n",
       "        text-align: right;\n",
       "    }\n",
       "</style>\n",
       "<table border=\"1\" class=\"dataframe\">\n",
       "  <thead>\n",
       "    <tr style=\"text-align: right;\">\n",
       "      <th></th>\n",
       "      <th>Date</th>\n",
       "      <th>Irradiance</th>\n",
       "    </tr>\n",
       "    <tr>\n",
       "      <th>Date</th>\n",
       "      <th></th>\n",
       "      <th></th>\n",
       "    </tr>\n",
       "  </thead>\n",
       "  <tbody>\n",
       "    <tr>\n",
       "      <th>2021-01-01 00:30:00</th>\n",
       "      <td>2021-01-01 00:30:00</td>\n",
       "      <td>NaN</td>\n",
       "    </tr>\n",
       "    <tr>\n",
       "      <th>2021-01-01 01:30:00</th>\n",
       "      <td>2021-01-01 01:30:00</td>\n",
       "      <td>NaN</td>\n",
       "    </tr>\n",
       "    <tr>\n",
       "      <th>2021-01-01 02:30:00</th>\n",
       "      <td>2021-01-01 02:30:00</td>\n",
       "      <td>NaN</td>\n",
       "    </tr>\n",
       "    <tr>\n",
       "      <th>2021-01-01 03:30:00</th>\n",
       "      <td>2021-01-01 03:30:00</td>\n",
       "      <td>NaN</td>\n",
       "    </tr>\n",
       "    <tr>\n",
       "      <th>2021-01-01 04:30:00</th>\n",
       "      <td>2021-01-01 04:30:00</td>\n",
       "      <td>NaN</td>\n",
       "    </tr>\n",
       "  </tbody>\n",
       "</table>\n",
       "</div>"
      ],
      "text/plain": [
       "                                   Date  Irradiance\n",
       "Date                                               \n",
       "2021-01-01 00:30:00 2021-01-01 00:30:00         NaN\n",
       "2021-01-01 01:30:00 2021-01-01 01:30:00         NaN\n",
       "2021-01-01 02:30:00 2021-01-01 02:30:00         NaN\n",
       "2021-01-01 03:30:00 2021-01-01 03:30:00         NaN\n",
       "2021-01-01 04:30:00 2021-01-01 04:30:00         NaN"
      ]
     },
     "execution_count": 52,
     "metadata": {},
     "output_type": "execute_result"
    }
   ],
   "source": [
    "df_future_dates.index = pd.to_datetime(df_future_dates['Date'], format='%Y-%m-%d %H:%M:%S')\n",
    "df_future_dates.head()"
   ]
  },
  {
   "cell_type": "code",
   "execution_count": 53,
   "id": "00e1e5bd",
   "metadata": {},
   "outputs": [],
   "source": [
    "df_future_dates_copy = df_future_dates.copy()\n",
    "del df_future_dates_copy['Date']"
   ]
  },
  {
   "cell_type": "code",
   "execution_count": null,
   "id": "e8fdbe86",
   "metadata": {},
   "outputs": [],
   "source": []
  },
  {
   "cell_type": "code",
   "execution_count": 54,
   "id": "54f7971f",
   "metadata": {},
   "outputs": [],
   "source": [
    "testX_future, testY_future = create_features(df_future_dates, target_variable='Irradiance')"
   ]
  },
  {
   "cell_type": "code",
   "execution_count": 55,
   "id": "e5a3e011",
   "metadata": {},
   "outputs": [
    {
     "data": {
      "text/html": [
       "<div>\n",
       "<style scoped>\n",
       "    .dataframe tbody tr th:only-of-type {\n",
       "        vertical-align: middle;\n",
       "    }\n",
       "\n",
       "    .dataframe tbody tr th {\n",
       "        vertical-align: top;\n",
       "    }\n",
       "\n",
       "    .dataframe thead th {\n",
       "        text-align: right;\n",
       "    }\n",
       "</style>\n",
       "<table border=\"1\" class=\"dataframe\">\n",
       "  <thead>\n",
       "    <tr style=\"text-align: right;\">\n",
       "      <th></th>\n",
       "      <th>hour</th>\n",
       "      <th>dayofweek</th>\n",
       "      <th>quarter</th>\n",
       "      <th>month</th>\n",
       "      <th>year</th>\n",
       "      <th>dayofyear</th>\n",
       "      <th>dayofmonth</th>\n",
       "      <th>weekofyear</th>\n",
       "    </tr>\n",
       "    <tr>\n",
       "      <th>Date</th>\n",
       "      <th></th>\n",
       "      <th></th>\n",
       "      <th></th>\n",
       "      <th></th>\n",
       "      <th></th>\n",
       "      <th></th>\n",
       "      <th></th>\n",
       "      <th></th>\n",
       "    </tr>\n",
       "  </thead>\n",
       "  <tbody>\n",
       "    <tr>\n",
       "      <th>2021-01-01 00:30:00</th>\n",
       "      <td>0</td>\n",
       "      <td>4</td>\n",
       "      <td>1</td>\n",
       "      <td>1</td>\n",
       "      <td>2021</td>\n",
       "      <td>1</td>\n",
       "      <td>1</td>\n",
       "      <td>53</td>\n",
       "    </tr>\n",
       "    <tr>\n",
       "      <th>2021-01-01 01:30:00</th>\n",
       "      <td>1</td>\n",
       "      <td>4</td>\n",
       "      <td>1</td>\n",
       "      <td>1</td>\n",
       "      <td>2021</td>\n",
       "      <td>1</td>\n",
       "      <td>1</td>\n",
       "      <td>53</td>\n",
       "    </tr>\n",
       "    <tr>\n",
       "      <th>2021-01-01 02:30:00</th>\n",
       "      <td>2</td>\n",
       "      <td>4</td>\n",
       "      <td>1</td>\n",
       "      <td>1</td>\n",
       "      <td>2021</td>\n",
       "      <td>1</td>\n",
       "      <td>1</td>\n",
       "      <td>53</td>\n",
       "    </tr>\n",
       "    <tr>\n",
       "      <th>2021-01-01 03:30:00</th>\n",
       "      <td>3</td>\n",
       "      <td>4</td>\n",
       "      <td>1</td>\n",
       "      <td>1</td>\n",
       "      <td>2021</td>\n",
       "      <td>1</td>\n",
       "      <td>1</td>\n",
       "      <td>53</td>\n",
       "    </tr>\n",
       "    <tr>\n",
       "      <th>2021-01-01 04:30:00</th>\n",
       "      <td>4</td>\n",
       "      <td>4</td>\n",
       "      <td>1</td>\n",
       "      <td>1</td>\n",
       "      <td>2021</td>\n",
       "      <td>1</td>\n",
       "      <td>1</td>\n",
       "      <td>53</td>\n",
       "    </tr>\n",
       "    <tr>\n",
       "      <th>...</th>\n",
       "      <td>...</td>\n",
       "      <td>...</td>\n",
       "      <td>...</td>\n",
       "      <td>...</td>\n",
       "      <td>...</td>\n",
       "      <td>...</td>\n",
       "      <td>...</td>\n",
       "      <td>...</td>\n",
       "    </tr>\n",
       "    <tr>\n",
       "      <th>2023-04-14 03:30:00</th>\n",
       "      <td>3</td>\n",
       "      <td>4</td>\n",
       "      <td>2</td>\n",
       "      <td>4</td>\n",
       "      <td>2023</td>\n",
       "      <td>104</td>\n",
       "      <td>14</td>\n",
       "      <td>15</td>\n",
       "    </tr>\n",
       "    <tr>\n",
       "      <th>2023-04-14 04:30:00</th>\n",
       "      <td>4</td>\n",
       "      <td>4</td>\n",
       "      <td>2</td>\n",
       "      <td>4</td>\n",
       "      <td>2023</td>\n",
       "      <td>104</td>\n",
       "      <td>14</td>\n",
       "      <td>15</td>\n",
       "    </tr>\n",
       "    <tr>\n",
       "      <th>2023-04-14 05:30:00</th>\n",
       "      <td>5</td>\n",
       "      <td>4</td>\n",
       "      <td>2</td>\n",
       "      <td>4</td>\n",
       "      <td>2023</td>\n",
       "      <td>104</td>\n",
       "      <td>14</td>\n",
       "      <td>15</td>\n",
       "    </tr>\n",
       "    <tr>\n",
       "      <th>2023-04-14 06:30:00</th>\n",
       "      <td>6</td>\n",
       "      <td>4</td>\n",
       "      <td>2</td>\n",
       "      <td>4</td>\n",
       "      <td>2023</td>\n",
       "      <td>104</td>\n",
       "      <td>14</td>\n",
       "      <td>15</td>\n",
       "    </tr>\n",
       "    <tr>\n",
       "      <th>2023-04-14 07:30:00</th>\n",
       "      <td>7</td>\n",
       "      <td>4</td>\n",
       "      <td>2</td>\n",
       "      <td>4</td>\n",
       "      <td>2023</td>\n",
       "      <td>104</td>\n",
       "      <td>14</td>\n",
       "      <td>15</td>\n",
       "    </tr>\n",
       "  </tbody>\n",
       "</table>\n",
       "<p>20000 rows × 8 columns</p>\n",
       "</div>"
      ],
      "text/plain": [
       "                     hour  dayofweek  quarter  month  year  dayofyear  \\\n",
       "Date                                                                    \n",
       "2021-01-01 00:30:00     0          4        1      1  2021          1   \n",
       "2021-01-01 01:30:00     1          4        1      1  2021          1   \n",
       "2021-01-01 02:30:00     2          4        1      1  2021          1   \n",
       "2021-01-01 03:30:00     3          4        1      1  2021          1   \n",
       "2021-01-01 04:30:00     4          4        1      1  2021          1   \n",
       "...                   ...        ...      ...    ...   ...        ...   \n",
       "2023-04-14 03:30:00     3          4        2      4  2023        104   \n",
       "2023-04-14 04:30:00     4          4        2      4  2023        104   \n",
       "2023-04-14 05:30:00     5          4        2      4  2023        104   \n",
       "2023-04-14 06:30:00     6          4        2      4  2023        104   \n",
       "2023-04-14 07:30:00     7          4        2      4  2023        104   \n",
       "\n",
       "                     dayofmonth  weekofyear  \n",
       "Date                                         \n",
       "2021-01-01 00:30:00           1          53  \n",
       "2021-01-01 01:30:00           1          53  \n",
       "2021-01-01 02:30:00           1          53  \n",
       "2021-01-01 03:30:00           1          53  \n",
       "2021-01-01 04:30:00           1          53  \n",
       "...                         ...         ...  \n",
       "2023-04-14 03:30:00          14          15  \n",
       "2023-04-14 04:30:00          14          15  \n",
       "2023-04-14 05:30:00          14          15  \n",
       "2023-04-14 06:30:00          14          15  \n",
       "2023-04-14 07:30:00          14          15  \n",
       "\n",
       "[20000 rows x 8 columns]"
      ]
     },
     "execution_count": 55,
     "metadata": {},
     "output_type": "execute_result"
    }
   ],
   "source": [
    "testX_future"
   ]
  },
  {
   "cell_type": "code",
   "execution_count": 56,
   "id": "b7ece780",
   "metadata": {},
   "outputs": [],
   "source": [
    "from xgboost import XGBRegressor\n",
    "\n"
   ]
  },
  {
   "cell_type": "code",
   "execution_count": 57,
   "id": "1cbef243",
   "metadata": {},
   "outputs": [
    {
     "name": "stdout",
     "output_type": "stream",
     "text": [
      "[19:08:54] WARNING: C:/Users/Administrator/workspace/xgboost-win64_release_1.5.1/src/objective/regression_obj.cu:188: reg:linear is now deprecated in favor of reg:squarederror.\n"
     ]
    },
    {
     "data": {
      "text/plain": [
       "XGBRegressor(base_score=0.5, booster='gbtree', colsample_bylevel=1,\n",
       "             colsample_bynode=1, colsample_bytree=1, enable_categorical=False,\n",
       "             gamma=0, gpu_id=-1, importance_type=None,\n",
       "             interaction_constraints='', learning_rate=0.300000012,\n",
       "             max_delta_step=0, max_depth=6, min_child_weight=1, missing=nan,\n",
       "             monotone_constraints='()', n_estimators=1000, n_jobs=16,\n",
       "             num_parallel_tree=1, objective='reg:linear', predictor='auto',\n",
       "             random_state=0, reg_alpha=0, reg_lambda=1, scale_pos_weight=1,\n",
       "             subsample=1, tree_method='exact', validate_parameters=1,\n",
       "             verbosity=None)"
      ]
     },
     "execution_count": 57,
     "metadata": {},
     "output_type": "execute_result"
    }
   ],
   "source": [
    "xgb = XGBRegressor(objective= 'reg:linear', n_estimators=1000)\n",
    "xgb\n",
    "\n",
    "xgb.fit(trainX, trainY,\n",
    "        eval_set=[(trainX, trainY), (testX, testY)],\n",
    "        early_stopping_rounds=50,\n",
    "        verbose=False) "
   ]
  },
  {
   "cell_type": "code",
   "execution_count": 58,
   "id": "2e375a46",
   "metadata": {},
   "outputs": [
    {
     "data": {
      "text/plain": [
       "array([-8.2276134e+00, -6.5083456e-01,  2.4504519e+01, ...,\n",
       "        8.3838306e+02,  9.1627838e+02,  9.9855890e+02], dtype=float32)"
      ]
     },
     "execution_count": 58,
     "metadata": {},
     "output_type": "execute_result"
    }
   ],
   "source": [
    "predicted_results_future = xgb.predict(testX_future)\n",
    "predicted_results_future"
   ]
  },
  {
   "cell_type": "code",
   "execution_count": 59,
   "id": "662d7512",
   "metadata": {},
   "outputs": [
    {
     "data": {
      "image/png": "[encoded data removed]",
      "text/plain": [
       "<Figure size 720x576 with 1 Axes>"
      ]
     },
     "metadata": {
      "needs_background": "light"
     },
     "output_type": "display_data"
    }
   ],
   "source": [
    "plt.figure(figsize=(10,8))\n",
    "# plt.plot(list(testY))\n",
    "plt.plot(list(predicted_results_future))\n",
    "plt.title(\"Predicted\")\n",
    "plt.ylabel(\"Irradiance\")\n",
    "plt.legend('predicted')\n",
    "plt.show()"
   ]
  },
  {
   "cell_type": "code",
   "execution_count": 60,
   "id": "7f386176",
   "metadata": {},
   "outputs": [],
   "source": [
    "df_future_dates_copy['Prediction'] = predicted_results_future\n",
    "Irr_all_future = pd.concat([df2, df_future_dates_copy], sort=False)\n",
    "# Irr_all = Irr_all.rename(columns={'Irradiation':'Original_Value'})"
   ]
  },
  {
   "cell_type": "code",
   "execution_count": 61,
   "id": "a102495c",
   "metadata": {},
   "outputs": [
    {
     "data": {
      "text/plain": [
       "array([518.42474, 716.7594 , 833.3127 , ..., 838.38306, 916.2784 ,\n",
       "       998.5589 ], dtype=float32)"
      ]
     },
     "execution_count": 61,
     "metadata": {},
     "output_type": "execute_result"
    }
   ],
   "source": [
    "predicted_results_future[100:]"
   ]
  },
  {
   "cell_type": "code",
   "execution_count": 62,
   "id": "dc18ce5c",
   "metadata": {},
   "outputs": [
    {
     "data": {
      "text/html": [
       "<div>\n",
       "<style scoped>\n",
       "    .dataframe tbody tr th:only-of-type {\n",
       "        vertical-align: middle;\n",
       "    }\n",
       "\n",
       "    .dataframe tbody tr th {\n",
       "        vertical-align: top;\n",
       "    }\n",
       "\n",
       "    .dataframe thead th {\n",
       "        text-align: right;\n",
       "    }\n",
       "</style>\n",
       "<table border=\"1\" class=\"dataframe\">\n",
       "  <thead>\n",
       "    <tr style=\"text-align: right;\">\n",
       "      <th></th>\n",
       "      <th>Irradiance</th>\n",
       "      <th>Prediction</th>\n",
       "    </tr>\n",
       "    <tr>\n",
       "      <th>Date</th>\n",
       "      <th></th>\n",
       "      <th></th>\n",
       "    </tr>\n",
       "  </thead>\n",
       "  <tbody>\n",
       "    <tr>\n",
       "      <th>2014-01-01 00:30:00</th>\n",
       "      <td>0.00</td>\n",
       "      <td>NaN</td>\n",
       "    </tr>\n",
       "    <tr>\n",
       "      <th>2014-01-01 01:30:00</th>\n",
       "      <td>0.00</td>\n",
       "      <td>NaN</td>\n",
       "    </tr>\n",
       "    <tr>\n",
       "      <th>2014-01-01 02:30:00</th>\n",
       "      <td>1.45</td>\n",
       "      <td>NaN</td>\n",
       "    </tr>\n",
       "    <tr>\n",
       "      <th>2014-01-01 03:30:00</th>\n",
       "      <td>150.72</td>\n",
       "      <td>NaN</td>\n",
       "    </tr>\n",
       "    <tr>\n",
       "      <th>2014-01-01 04:30:00</th>\n",
       "      <td>373.87</td>\n",
       "      <td>NaN</td>\n",
       "    </tr>\n",
       "    <tr>\n",
       "      <th>...</th>\n",
       "      <td>...</td>\n",
       "      <td>...</td>\n",
       "    </tr>\n",
       "    <tr>\n",
       "      <th>2023-04-14 03:30:00</th>\n",
       "      <td>NaN</td>\n",
       "      <td>545.941162</td>\n",
       "    </tr>\n",
       "    <tr>\n",
       "      <th>2023-04-14 04:30:00</th>\n",
       "      <td>NaN</td>\n",
       "      <td>707.961487</td>\n",
       "    </tr>\n",
       "    <tr>\n",
       "      <th>2023-04-14 05:30:00</th>\n",
       "      <td>NaN</td>\n",
       "      <td>838.383057</td>\n",
       "    </tr>\n",
       "    <tr>\n",
       "      <th>2023-04-14 06:30:00</th>\n",
       "      <td>NaN</td>\n",
       "      <td>916.278381</td>\n",
       "    </tr>\n",
       "    <tr>\n",
       "      <th>2023-04-14 07:30:00</th>\n",
       "      <td>NaN</td>\n",
       "      <td>998.558899</td>\n",
       "    </tr>\n",
       "  </tbody>\n",
       "</table>\n",
       "<p>81368 rows × 2 columns</p>\n",
       "</div>"
      ],
      "text/plain": [
       "                     Irradiance  Prediction\n",
       "Date                                       \n",
       "2014-01-01 00:30:00        0.00         NaN\n",
       "2014-01-01 01:30:00        0.00         NaN\n",
       "2014-01-01 02:30:00        1.45         NaN\n",
       "2014-01-01 03:30:00      150.72         NaN\n",
       "2014-01-01 04:30:00      373.87         NaN\n",
       "...                         ...         ...\n",
       "2023-04-14 03:30:00         NaN  545.941162\n",
       "2023-04-14 04:30:00         NaN  707.961487\n",
       "2023-04-14 05:30:00         NaN  838.383057\n",
       "2023-04-14 06:30:00         NaN  916.278381\n",
       "2023-04-14 07:30:00         NaN  998.558899\n",
       "\n",
       "[81368 rows x 2 columns]"
      ]
     },
     "execution_count": 62,
     "metadata": {},
     "output_type": "execute_result"
    }
   ],
   "source": [
    "Irr_all_future"
   ]
  },
  {
   "cell_type": "code",
   "execution_count": 63,
   "id": "4cc9f386",
   "metadata": {},
   "outputs": [
    {
     "data": {
      "image/png": "[encoded data removed]",
      "text/plain": [
       "<Figure size 1080x360 with 1 Axes>"
      ]
     },
     "metadata": {
      "needs_background": "light"
     },
     "output_type": "display_data"
    }
   ],
   "source": [
    "Overview_Complete_Data_And_Prediction_future = Irr_all_future[['Irradiance','Prediction']].plot(figsize=(15, 5))"
   ]
  },
  {
   "cell_type": "code",
   "execution_count": null,
   "id": "b3b74249",
   "metadata": {},
   "outputs": [],
   "source": []
  },
  {
   "cell_type": "code",
   "execution_count": null,
   "id": "9652ae3b",
   "metadata": {},
   "outputs": [],
   "source": []
  },
  {
   "cell_type": "code",
   "execution_count": null,
   "id": "f3adaa1d",
   "metadata": {},
   "outputs": [],
   "source": []
  },
  {
   "cell_type": "code",
   "execution_count": null,
   "id": "6fe3eac7",
   "metadata": {},
   "outputs": [],
   "source": []
  },
  {
   "cell_type": "code",
   "execution_count": null,
   "id": "594221f9",
   "metadata": {},
   "outputs": [],
   "source": []
  }
 ],
 "metadata": {
  "kernelspec": {
   "display_name": "Python 3 (ipykernel)",
   "language": "python",
   "name": "python3"
  },
  "language_info": {
   "codemirror_mode": {
    "name": "ipython",
    "version": 3
   },
   "file_extension": ".py",
   "mimetype": "text/x-python",
   "name": "python",
   "nbconvert_exporter": "python",
   "pygments_lexer": "ipython3",
   "version": "3.9.7"
  }
 },
 "nbformat": 4,
 "nbformat_minor": 5
}
